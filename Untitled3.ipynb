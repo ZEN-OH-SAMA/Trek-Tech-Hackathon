{
 "cells": [
  {
   "cell_type": "code",
   "execution_count": 3,
   "id": "f19614a4-308c-49b5-ba36-9769129c1b82",
   "metadata": {},
   "outputs": [
    {
     "name": "stdout",
     "output_type": "stream",
     "text": [
      "The registration info available to me is that you'll require to login using your email id on CET CELL link https://cetcell.mahacet.org/CAP_landing_page_2023/\n"
     ]
    }
   ],
   "source": [
    "print(\"The registration info available to me is that you'll require to login using your email id on CET CELL link https://cetcell.mahacet.org/CAP_landing_page_2023/\")"
   ]
  },
  {
   "cell_type": "code",
   "execution_count": null,
   "id": "80424f18-4f7b-4e55-81f9-58906c3a061d",
   "metadata": {},
   "outputs": [],
   "source": []
  }
 ],
 "metadata": {
  "kernelspec": {
   "display_name": "Python 3 (ipykernel)",
   "language": "python",
   "name": "python3"
  },
  "language_info": {
   "codemirror_mode": {
    "name": "ipython",
    "version": 3
   },
   "file_extension": ".py",
   "mimetype": "text/x-python",
   "name": "python",
   "nbconvert_exporter": "python",
   "pygments_lexer": "ipython3",
   "version": "3.11.5"
  }
 },
 "nbformat": 4,
 "nbformat_minor": 5
}
