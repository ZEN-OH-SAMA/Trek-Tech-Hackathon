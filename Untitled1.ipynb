{
 "cells": [
  {
   "cell_type": "code",
   "execution_count": 28,
   "id": "bfa13ac5-a9a2-47b0-a97d-38b7c3e65e15",
   "metadata": {},
   "outputs": [
    {
     "name": "stdout",
     "output_type": "stream",
     "text": [
      "Hey,Welcome to Lokmanya Tilak College of Engineering\n",
      "This is your Chatbot Harry and Iam really happy to assist you!\n",
      "Please may i know your name first?\n"
     ]
    },
    {
     "name": "stdin",
     "output_type": "stream",
     "text": [
      " Amit\n"
     ]
    },
    {
     "name": "stdout",
     "output_type": "stream",
     "text": [
      "Hello Amit Welcome to Lokmanya Tilak College of Engineering.How may i assist you?\n",
      "I've got you covered in certain option such as \n"
     ]
    }
   ],
   "source": [
    "from tkinter import *\n",
    "root = Tk()\n",
    "root.geometry(\"400x400\")\n",
    "print(\"Hey,Welcome to Lokmanya Tilak College of Engineering\")\n",
    "print(\"This is your Chatbot Harry and Iam really happy to assist you!\")\n",
    "print (\"Please may i know your name first?\")\n",
    "stdname = input()\n",
    "print(\"Hello \"+stdname,\"Welcome to Lokmanya Tilak College of Engineering.How may i assist you?\")\n",
    "print (\"I've got you covered in certain option such as \")\n"
   ]
  },
  {
   "cell_type": "code",
   "execution_count": 25,
   "id": "767e89ee-548b-4fa3-b3f0-98aef54a6f2d",
   "metadata": {},
   "outputs": [],
   "source": [
    "\n",
    "from tkinter import *\n",
    "root = Tk()\n",
    "root.geometry( \"200x200\" )\n",
    "def show():\n",
    "\tlabel.config( text = clicked.get() )\n",
    "\n",
    "\n",
    "options = [\n",
    "\t\"Admission\",\n",
    "\t\"Aminities\",\n",
    "\t\"Programs Offered\",\n",
    "\t\"College events\",\n",
    "\t\"Campus information\",\n",
    "\t\"Registration and Enrollment\",\n",
    "\t\"Emergency services\"\n",
    "]\n",
    "\n",
    "\n",
    "clicked = StringVar()\n",
    "clicked.set( \"FAQ'S\" )\n",
    "drop = OptionMenu( root , clicked , *options )\n",
    "drop.pack()\n",
    "button = Button( root , text = \"Any other queries\" , command = show ).pack()\n",
    "label = Label( root , text = \" \" )\n",
    "label.pack()\n",
    "root.mainloop()\n"
   ]
  },
  {
   "cell_type": "code",
   "execution_count": null,
   "id": "62aab4ab-cb7e-469a-b774-e589a2331c1a",
   "metadata": {},
   "outputs": [],
   "source": []
  }
 ],
 "metadata": {
  "kernelspec": {
   "display_name": "Python 3 (ipykernel)",
   "language": "python",
   "name": "python3"
  },
  "language_info": {
   "codemirror_mode": {
    "name": "ipython",
    "version": 3
   },
   "file_extension": ".py",
   "mimetype": "text/x-python",
   "name": "python",
   "nbconvert_exporter": "python",
   "pygments_lexer": "ipython3",
   "version": "3.11.5"
  }
 },
 "nbformat": 4,
 "nbformat_minor": 5
}
