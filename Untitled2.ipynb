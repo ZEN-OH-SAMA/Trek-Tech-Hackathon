{
 "cells": [
  {
   "cell_type": "code",
   "execution_count": 6,
   "id": "415853a1-077a-4a3a-a0a9-a13718f16525",
   "metadata": {},
   "outputs": [],
   "source": [
    "from tkinter import *\n",
    "root = Tk()\n",
    "root.geometry( \"200x200\" )\n",
    "def show():\n",
    "\tlabel.config( text = clicked.get() )\n",
    "\n",
    "\n",
    "options = [\n",
    "\t\"Aadhar Card\",\n",
    "\t\"PAN card\",\n",
    "\t\"10th Passing Certificate\",\n",
    "\t\"12th Pasing Certficate\",\n",
    "\t\"10th Marksheet\",\n",
    "\t\"12th Marksheet\",\n",
    "\t\"CET scorecard\"\n",
    "]\n",
    "\n",
    "\n",
    "clicked = StringVar()\n",
    "clicked.set( \"Please enter your query\" )\n",
    "drop = OptionMenu( root , clicked , *options )\n",
    "drop.pack()\n"
   ]
  },
  {
   "cell_type": "code",
   "execution_count": null,
   "id": "d74066e3-6e34-4a7c-892b-b54ec198712c",
   "metadata": {},
   "outputs": [],
   "source": []
  }
 ],
 "metadata": {
  "kernelspec": {
   "display_name": "Python 3 (ipykernel)",
   "language": "python",
   "name": "python3"
  },
  "language_info": {
   "codemirror_mode": {
    "name": "ipython",
    "version": 3
   },
   "file_extension": ".py",
   "mimetype": "text/x-python",
   "name": "python",
   "nbconvert_exporter": "python",
   "pygments_lexer": "ipython3",
   "version": "3.11.5"
  }
 },
 "nbformat": 4,
 "nbformat_minor": 5
}
